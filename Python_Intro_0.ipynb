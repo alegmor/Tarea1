{
 "cells": [
  {
   "cell_type": "markdown",
   "id": "b84c1685",
   "metadata": {},
   "source": [
    "# <font color='#09427D'><center>Introducción a Python</font>"
   ]
  },
  {
   "cell_type": "markdown",
   "id": "f3456161",
   "metadata": {},
   "source": [
    "Python es un lenguaje de alto nivel de programación interpretado cuya filosofía hace hincapié en que sea legible, simple, práctico, fácil de implementar, debe haber una manera obvia de hacer las cosas.\n"
   ]
  },
  {
   "cell_type": "markdown",
   "id": "755d261f",
   "metadata": {},
   "source": [
    "## Google Colab\n",
    "https://colab.research.google.com/\n",
    "\n",
    "En la pestaña de Github copiar y pegar la liga del repositorio de la tarea y dar click en buscar para abrir la libreta.\n",
    "\n",
    "\n",
    "## Github - liga del repositorio de la tarea \n",
    "https://github.com/alegmor/Tarea1\n",
    "\n",
    "\n",
    "## Instalar Jupyter Notebook \n",
    "\n",
    "Windows\n",
    "https://www.youtube.com/watch?v=kf3AwEvNdno\n",
    "\n",
    "Mac iOS\n",
    "https://www.youtube.com/watch?v=6j6L3feh1p4\n",
    "\n",
    "Ubuntu\n",
    "https://www.digitalocean.com/community/tutorials/how-to-set-up-jupyter-notebook-with-python-3-on-ubuntu-18-04-es\n",
    "\n",
    "\n",
    "## Moodle\n",
    "\n",
    "https://docs.moodle.org/all/es/Acerca_de_Moodle\n",
    "\n",
    "## LaTeX-markdown\n",
    "https://mathpix.com/docs/mathpix-markdown/syntax-reference\n",
    "### Editor de ecuaciones LaTeX\n",
    "https://latex.codecogs.com/eqneditor/editor.php?lang=es-es\n",
    "\n",
    "## MACTI\n",
    "\n",
    "https://www.macti.unam.mx/\n",
    "\n",
    "## Explicar estructura del código\n",
    "\n",
    "1. Descripción del problema\n",
    "2. Importar librerías\n",
    "3. Datos\n",
    "4. Solución\n",
    "5. Resultado\n",
    "\n",
    "# Shift + Enter \n",
    "Ejecuta la celda seleccionada y se posiciona en la siguiente.\n",
    "\n",
    "# Comentarios\n",
    "\n",
    "El símbolo \"#\" nos permite escribir comentarios en la libreta.\n",
    "\n",
    "Dentro de print no se puede escribir en formato LateX"
   ]
  },
  {
   "cell_type": "markdown",
   "id": "918dfd9a",
   "metadata": {},
   "source": [
    "## Librerías\n",
    "\n",
    "### Numpy\n",
    "\n",
    "NumPy es el paquete fundamental para computación científica en Python. Es una biblioteca de Python que proporciona un objeto de matriz multidimensional, varios objetos derivados (como matrices y matrices enmascaradas) y una variedad de rutinas para operaciones rápidas en matrices, que incluyen manipulación matemática, lógica, de formas, clasificación, selección, E/S. , transformadas discretas de Fourier, álgebra lineal básica, operaciones estadísticas básicas, simulación aleatoria y mucho más.\n"
   ]
  },
  {
   "cell_type": "code",
   "execution_count": 1,
   "id": "d52f5c7d",
   "metadata": {},
   "outputs": [],
   "source": [
    "import numpy as np\n",
    "\n",
    "#linspace, Crea un arreglo de una dimensión cuyos elementos\n",
    "#son la secuencia de n valores espaciados linealmente.\n",
    "\n",
    "\n",
    "x = np.linspace(1,10,5)"
   ]
  },
  {
   "cell_type": "markdown",
   "id": "5585eb19",
   "metadata": {},
   "source": [
    "\n",
    "### Matplotlib\n",
    "Matplotlib es una biblioteca completa para crear visualizaciones estáticas, animadas e interactivas en Python. Matplotlib hace que las cosas fáciles sean fáciles y las difíciles sean posibles."
   ]
  },
  {
   "cell_type": "code",
   "execution_count": 2,
   "id": "3bd927d6",
   "metadata": {},
   "outputs": [
    {
     "data": {
      "text/plain": [
       "[<matplotlib.lines.Line2D at 0x7f156cb4d460>]"
      ]
     },
     "execution_count": 2,
     "metadata": {},
     "output_type": "execute_result"
    },
    {
     "data": {
      "image/png": "[encoded data removed]",
      "text/plain": [
       "<Figure size 432x288 with 1 Axes>"
      ]
     },
     "metadata": {
      "needs_background": "light"
     },
     "output_type": "display_data"
    }
   ],
   "source": [
    "import matplotlib.pyplot as plt\n",
    "\n",
    "y = x**2\n",
    "\n",
    "plt.plot(x,y)"
   ]
  },
  {
   "cell_type": "markdown",
   "id": "dbc678b8",
   "metadata": {},
   "source": [
    "### Pandas \n",
    "pandas es una herramienta de análisis y manipulación de datos de código abierto rápida, potente, flexible y fácil de usar,Construido sobre el lenguaje de programación Python."
   ]
  },
  {
   "cell_type": "markdown",
   "id": "037028fe",
   "metadata": {},
   "source": [
    "### <font color='#09427D'> Tarea 1 </font>"
   ]
  },
  {
   "cell_type": "markdown",
   "id": "5734f6b8",
   "metadata": {},
   "source": [
    "### <font color='red'> Solución </font>"
   ]
  },
  {
   "cell_type": "markdown",
   "id": "42303e96",
   "metadata": {},
   "source": [
    "Densidad: \n",
    "    \n",
    "$$ \\rho = \\dfrac{m}{v}$$\n",
    "\n",
    "Peso:\n",
    "\n",
    "$$ w = mg $$"
   ]
  },
  {
   "cell_type": "markdown",
   "id": "8c22e093",
   "metadata": {},
   "source": [
    "1. Determine la masa $m$ y el peso $w$ del aire contenido en un recinto cuyas dimensiones son $6 \\mathrm{m} \\times6 \\mathrm{m} \\times8 \\mathrm{m}$. Suponga que la densidad del aire es $1.16$ $\\mathrm{kg/m^3}$."
   ]
  },
  {
   "cell_type": "code",
   "execution_count": 3,
   "id": "96890940",
   "metadata": {},
   "outputs": [],
   "source": [
    "#1.DATOS\n",
    "v   = 6*6*8\n",
    "rho = 1.16\n",
    "g   = 9.81"
   ]
  },
  {
   "cell_type": "code",
   "execution_count": null,
   "id": "1b7931a8",
   "metadata": {},
   "outputs": [],
   "source": [
    "#2.LO QUE QUIERO CALCULAR DENTRO DE LA FUNCION\n",
    "m = rho*v\n",
    "m"
   ]
  },
  {
   "cell_type": "code",
   "execution_count": null,
   "id": "d43ec548",
   "metadata": {},
   "outputs": [],
   "source": [
    "#3.FUNCION\n",
    "def masa(rho,v):\n",
    "    m = rho*v\n",
    "    return m\n",
    "\n",
    "def peso(m,g):\n",
    "    w = m*g\n",
    "    return w    "
   ]
  },
  {
   "cell_type": "code",
   "execution_count": null,
   "id": "2113898f",
   "metadata": {},
   "outputs": [],
   "source": [
    "masa(1.16,6*6*8)"
   ]
  },
  {
   "cell_type": "code",
   "execution_count": null,
   "id": "38503ffc",
   "metadata": {},
   "outputs": [],
   "source": [
    "#4. IMPRIME EL RESULTADO CON LAS UNIDADES con print\n",
    "\n",
    "#Dentro de las comillas va la oración que quiero imprimir\n",
    "#Dentro de {} el valor que quiero que imprima\n",
    "#.format() toma el valor que va dentro de {}\n",
    "\n",
    "#kg*m/s^2 = N\n",
    "\n",
    "print(\"La masa del aire contenido en el recinto es: {} kg\".format(masa(rho,v)))\n",
    "print(\"El peso del aire contenido en el recinto es: {} N\".format(peso(masa(rho,v),g)))"
   ]
  },
  {
   "cell_type": "markdown",
   "id": "2f8890e6",
   "metadata": {},
   "source": [
    "2. El calor específico a presión constante $c_p$ del aire a $25$ $\\mathrm{^\\circ{C}}$ es $1.005$ $\\mathrm{ kJ/kg  ^{\\circ}C}$. Exprese este valor en $\\mathrm{kJ/kg \\cdot K}$, $\\mathrm{J/g \\cdot ^\\circ C}$, $\\mathrm{kcal/kg ^{\\circ}C}$ y $\\mathrm{Btu/lbm  ^\\circ F}$."
   ]
  },
  {
   "cell_type": "code",
   "execution_count": null,
   "id": "506c6e5c",
   "metadata": {},
   "outputs": [],
   "source": [
    "#1.DATOS\n",
    "cp = 1.005"
   ]
  },
  {
   "cell_type": "code",
   "execution_count": null,
   "id": "a817b3e9",
   "metadata": {},
   "outputs": [],
   "source": [
    "#3. FUNCION\n",
    "def BTUlbmF(cp):\n",
    "    c = cp*(1/4.1868)\n",
    "    return c\n",
    "\n",
    "#4. IMPRIME EL RESULTADO CON LAS UNIDADES\n",
    "print(\"El calor específico a presión constante cp del aire es: {} BTU/lbm°F\".format(BTUlbmF(cp)))"
   ]
  },
  {
   "cell_type": "markdown",
   "id": "35bd66e9",
   "metadata": {},
   "source": [
    "3. Una resistencia de calentamiento de $4 \\mathrm {kW}$ en un calentador de agua trabaja durante dos horas para elevar la temperatura del agua al nivel deseado. Determine la cantidad de energía eléctrica que se usa, tanto en $\\mathrm{kWh}$ como en $\\mathrm{kJ}$."
   ]
  },
  {
   "cell_type": "code",
   "execution_count": null,
   "id": "5d8cdeed",
   "metadata": {},
   "outputs": [],
   "source": [
    "#DATOS\n",
    "\n",
    "#FUNCION\n",
    "def Energia_Electrica(P,t):\n",
    "    E = P*t\n",
    "    return E\n",
    "\n",
    "#IMPRIME EL RESULTADO"
   ]
  },
  {
   "cell_type": "markdown",
   "id": "a25f3a12",
   "metadata": {},
   "source": [
    "4. Un automóvil recorre $200$ $\\mathrm{km}$ en $7,200$ $\\mathrm{s}$. Obten su velocidad en millas por hora ($\\mathrm{mph}$)."
   ]
  },
  {
   "cell_type": "code",
   "execution_count": null,
   "id": "e4d73631",
   "metadata": {},
   "outputs": [],
   "source": [
    "#DATOS\n",
    "\n",
    "#FUNCION\n",
    "\n",
    "#IMPRIME EL RESULTADO"
   ]
  },
  {
   "cell_type": "markdown",
   "id": "7bd8e822",
   "metadata": {},
   "source": [
    "5. Considere un aire acondicionado con una capacidad de extraer $9,495,503$ $\\mathrm{Joules}$ ¿Cuánto equivale esta energía en Unidades Térmicas Británicas ($\\mathrm{BTU}$)?."
   ]
  },
  {
   "cell_type": "code",
   "execution_count": null,
   "id": "ca27d4ce",
   "metadata": {},
   "outputs": [],
   "source": [
    "#DATOS\n",
    "\n",
    "#FUNCION\n",
    "\n",
    "#IMPRIME EL RESULTADO"
   ]
  },
  {
   "cell_type": "markdown",
   "id": "e7c30f09",
   "metadata": {},
   "source": [
    "6. Un foco de $100$ $\\mathrm{Watt}$ está encendido durante dos horas al día \n",
    "\n",
    "\n",
    "¿Cuál es la energía en watt-hora ($\\mathrm{Wh}$) que consume al día?\n",
    "\n",
    "¿Cuál es la energía que consume al año? Escribe tu respuesta en $\\mathrm{Wh}$ y $\\mathrm{kWh}$?\n",
    "\n",
    "¿Cuál es la energía que consume en $\\mathrm{BTUs}$ por día y por año?\n",
    "\n",
    "¿Cuál es la energía que consume en $\\mathrm{Joules}$ por días y por año?\n",
    "\n"
   ]
  },
  {
   "cell_type": "code",
   "execution_count": null,
   "id": "ad9722f6",
   "metadata": {},
   "outputs": [],
   "source": [
    "#DATOS\n",
    "\n",
    "P_f = 100\n",
    "t_f = 2"
   ]
  },
  {
   "cell_type": "code",
   "execution_count": null,
   "id": "4cd7c638",
   "metadata": {},
   "outputs": [],
   "source": [
    "Edia_Wh  = Energia_Electrica(P_f,t_f) #Esta función ya se definió en un problema anterior y la podemos utilizar de nuevo\n",
    "Edia_kWh = Edia_Wh/1000"
   ]
  },
  {
   "cell_type": "code",
   "execution_count": null,
   "id": "6a2471ca",
   "metadata": {},
   "outputs": [],
   "source": [
    "#FUNCION\n",
    "def Eanual(E_Wh):\n",
    "    Ea = E_Wh*365\n",
    "    return Ea\n",
    "\n",
    "Eanaul_Wh  = Eanual(Edia_Wh)\n",
    "Eanual_kWh = Eanual(Edia_Wh)/1000"
   ]
  },
  {
   "cell_type": "code",
   "execution_count": null,
   "id": "3ee32b55",
   "metadata": {},
   "outputs": [],
   "source": [
    "#IMPRIME RESULTADO CON LAS UNIDADES CORRESPONDIENTES"
   ]
  }
 ],
 "metadata": {
  "kernelspec": {
   "display_name": "Python 3 (ipykernel)",
   "language": "python",
   "name": "python3"
  },
  "language_info": {
   "codemirror_mode": {
    "name": "ipython",
    "version": 3
   },
   "file_extension": ".py",
   "mimetype": "text/x-python",
   "name": "python",
   "nbconvert_exporter": "python",
   "pygments_lexer": "ipython3",
   "version": "3.8.10"
  },
  "latex_envs": {
   "LaTeX_envs_menu_present": true,
   "autoclose": false,
   "autocomplete": true,
   "bibliofile": "biblio.bib",
   "cite_by": "apalike",
   "current_citInitial": 1,
   "eqLabelWithNumbers": true,
   "eqNumInitial": 1,
   "hotkeys": {
    "equation": "Ctrl-E",
    "itemize": "Ctrl-I"
   },
   "labels_anchors": false,
   "latex_user_defs": false,
   "report_style_numbering": false,
   "user_envs_cfg": false
  },
  "varInspector": {
   "cols": {
    "lenName": 16,
    "lenType": 16,
    "lenVar": 40
   },
   "kernels_config": {
    "python": {
     "delete_cmd_postfix": "",
     "delete_cmd_prefix": "del ",
     "library": "var_list.py",
     "varRefreshCmd": "print(var_dic_list())"
    },
    "r": {
     "delete_cmd_postfix": ") ",
     "delete_cmd_prefix": "rm(",
     "library": "var_list.r",
     "varRefreshCmd": "cat(var_dic_list()) "
    }
   },
   "types_to_exclude": [
    "module",
    "function",
    "builtin_function_or_method",
    "instance",
    "_Feature"
   ],
   "window_display": false
  }
 },
 "nbformat": 4,
 "nbformat_minor": 5
}
